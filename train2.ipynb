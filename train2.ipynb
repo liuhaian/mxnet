{
 "cells": [
  {
   "cell_type": "code",
   "execution_count": 1,
   "metadata": {
    "collapsed": true
   },
   "outputs": [],
   "source": [
    "#coding=utf-8\n",
    "%matplotlib inline\n",
    "import mxnet as mx\n",
    "import numpy as np \n",
    "import cv2, random\n",
    "import matplotlib.pyplot as plt\n",
    "import logging\n",
    "import re\n",
    "import glob\n",
    "from PIL import Image\n",
    "\n",
    "logger = logging.getLogger()\n",
    "logger.setLevel(logging.DEBUG)"
   ]
  },
  {
   "cell_type": "code",
   "execution_count": 2,
   "metadata": {
    "collapsed": true
   },
   "outputs": [],
   "source": [
    "indexu= {u\"京\": 0, u\"沪\": 1, u\"津\": 2, u\"渝\": 3, u\"冀\": 4, u\"晋\": 5, u\"蒙\": 6, u\"辽\": 7, u\"吉\": 8, u\"黑\": 9, u\"苏\": 10, u\"浙\": 11, u\"皖\": 12,\n",
    "         u\"闽\": 13, u\"赣\": 14, u\"鲁\": 15, u\"豫\": 16, u\"鄂\": 17, u\"湘\": 18, u\"粤\": 19, u\"桂\": 20, u\"琼\": 21, u\"川\": 22, u\"贵\": 23, u\"云\": 24,\n",
    "         u\"藏\": 25, u\"陕\": 26, u\"甘\": 27, u\"青\": 28, u\"宁\": 29, u\"新\": 30,\"0\": 31, \"1\": 32, \"2\": 33, \"3\": 34, \"4\": 35, \"5\": 36,\n",
    "         \"6\": 37, \"7\": 38, \"8\": 39, \"9\": 40, \"A\": 41, \"B\": 42, \"C\": 43, \"D\": 44, \"E\": 45, \"F\": 46, \"G\": 47, \"H\": 48,\n",
    "         \"J\": 49, \"K\": 50, \"L\": 51, \"M\": 52, \"N\": 53, \"P\": 54, \"Q\": 55, \"R\": 56, \"S\": 57, \"T\": 58, \"U\": 59, \"V\": 60,\n",
    "         \"W\": 61, \"X\": 62, \"Y\": 63, \"Z\": 64};\n",
    "\n",
    "def r(val):\n",
    "    return int(np.random.random() * val)\n",
    "\n",
    "def rand_range(lo,hi):\n",
    "    return lo+r(hi-lo);\n",
    "\n",
    "def gen_rand_getImg(cnt):\n",
    "    name = \"\";\n",
    "    label= [];\n",
    "    \n",
    "    nPref=rand_range(0,cnt)\n",
    "    strPref=str(nPref).zfill(4)\n",
    "    strFilename=glob.glob('plate_train/'+strPref+'.*.jpg')\n",
    "    ##The following line is going to produce nsarray of 72*272*3\n",
    "    img = cv2.imread(strFilename[0],-1)\n",
    "    ##The following line is going to produce nsarray of 72*272\n",
    "    #img=cv2.imread(strFilename[0],cv2.IMREAD_GRAYSCALE)\n",
    "    #img = Image.open(strFilename[0], 'r')\n",
    "    #resize to 30*120*3\n",
    "    img = cv2.resize(img, (120, 30))\n",
    "    img = np.multiply(img, 1/255.0)\n",
    "    #change to 3*30*120\n",
    "    img = img.transpose(2, 0, 1)\n",
    "    \n",
    "    name=''\n",
    "    m = re.search('\\.(.+?)\\.jpg', strFilename[0])\n",
    "    if m:\n",
    "        name = m.group(1)\n",
    "    \n",
    "    for c in name.decode('utf-8'):\n",
    "        label.append(indexu[c])\n",
    "\n",
    "    return name,label,img"
   ]
  },
  {
   "cell_type": "code",
   "execution_count": 3,
   "metadata": {
    "collapsed": true
   },
   "outputs": [],
   "source": [
    "name,label,img=gen_rand_getImg(6000)"
   ]
  },
  {
   "cell_type": "code",
   "execution_count": 4,
   "metadata": {},
   "outputs": [
    {
     "name": "stdout",
     "output_type": "stream",
     "text": [
      "桂XPDAKH\n"
     ]
    }
   ],
   "source": [
    "print name"
   ]
  },
  {
   "cell_type": "code",
   "execution_count": 5,
   "metadata": {},
   "outputs": [
    {
     "name": "stdout",
     "output_type": "stream",
     "text": [
      "[20, 62, 54, 44, 41, 50, 48]\n"
     ]
    }
   ],
   "source": [
    "print label"
   ]
  },
  {
   "cell_type": "code",
   "execution_count": 6,
   "metadata": {
    "scrolled": true
   },
   "outputs": [
    {
     "ename": "TypeError",
     "evalue": "Invalid dimensions for image data",
     "output_type": "error",
     "traceback": [
      "\u001b[0;31m---------------------------------------------------------------------------\u001b[0m",
      "\u001b[0;31mTypeError\u001b[0m                                 Traceback (most recent call last)",
      "\u001b[0;32m<ipython-input-6-06fa45e84b5f>\u001b[0m in \u001b[0;36m<module>\u001b[0;34m()\u001b[0m\n\u001b[1;32m      1\u001b[0m \u001b[0;32mfrom\u001b[0m \u001b[0mmatplotlib\u001b[0m\u001b[0;34m.\u001b[0m\u001b[0mpyplot\u001b[0m \u001b[0;32mimport\u001b[0m \u001b[0mimshow\u001b[0m\u001b[0;34m\u001b[0m\u001b[0m\n\u001b[0;32m----> 2\u001b[0;31m \u001b[0mimshow\u001b[0m\u001b[0;34m(\u001b[0m\u001b[0mnp\u001b[0m\u001b[0;34m.\u001b[0m\u001b[0masarray\u001b[0m\u001b[0;34m(\u001b[0m\u001b[0mimg\u001b[0m\u001b[0;34m)\u001b[0m\u001b[0;34m)\u001b[0m\u001b[0;34m\u001b[0m\u001b[0m\n\u001b[0m",
      "\u001b[0;32m/usr/local/lib/python2.7/dist-packages/matplotlib/pyplot.pyc\u001b[0m in \u001b[0;36mimshow\u001b[0;34m(X, cmap, norm, aspect, interpolation, alpha, vmin, vmax, origin, extent, shape, filternorm, filterrad, imlim, resample, url, hold, data, **kwargs)\u001b[0m\n\u001b[1;32m   3155\u001b[0m                         \u001b[0mfilternorm\u001b[0m\u001b[0;34m=\u001b[0m\u001b[0mfilternorm\u001b[0m\u001b[0;34m,\u001b[0m \u001b[0mfilterrad\u001b[0m\u001b[0;34m=\u001b[0m\u001b[0mfilterrad\u001b[0m\u001b[0;34m,\u001b[0m\u001b[0;34m\u001b[0m\u001b[0m\n\u001b[1;32m   3156\u001b[0m                         \u001b[0mimlim\u001b[0m\u001b[0;34m=\u001b[0m\u001b[0mimlim\u001b[0m\u001b[0;34m,\u001b[0m \u001b[0mresample\u001b[0m\u001b[0;34m=\u001b[0m\u001b[0mresample\u001b[0m\u001b[0;34m,\u001b[0m \u001b[0murl\u001b[0m\u001b[0;34m=\u001b[0m\u001b[0murl\u001b[0m\u001b[0;34m,\u001b[0m \u001b[0mdata\u001b[0m\u001b[0;34m=\u001b[0m\u001b[0mdata\u001b[0m\u001b[0;34m,\u001b[0m\u001b[0;34m\u001b[0m\u001b[0m\n\u001b[0;32m-> 3157\u001b[0;31m                         **kwargs)\n\u001b[0m\u001b[1;32m   3158\u001b[0m     \u001b[0;32mfinally\u001b[0m\u001b[0;34m:\u001b[0m\u001b[0;34m\u001b[0m\u001b[0m\n\u001b[1;32m   3159\u001b[0m         \u001b[0max\u001b[0m\u001b[0;34m.\u001b[0m\u001b[0m_hold\u001b[0m \u001b[0;34m=\u001b[0m \u001b[0mwashold\u001b[0m\u001b[0;34m\u001b[0m\u001b[0m\n",
      "\u001b[0;32m/usr/local/lib/python2.7/dist-packages/matplotlib/__init__.pyc\u001b[0m in \u001b[0;36minner\u001b[0;34m(ax, *args, **kwargs)\u001b[0m\n\u001b[1;32m   1896\u001b[0m                     warnings.warn(msg % (label_namer, func.__name__),\n\u001b[1;32m   1897\u001b[0m                                   RuntimeWarning, stacklevel=2)\n\u001b[0;32m-> 1898\u001b[0;31m             \u001b[0;32mreturn\u001b[0m \u001b[0mfunc\u001b[0m\u001b[0;34m(\u001b[0m\u001b[0max\u001b[0m\u001b[0;34m,\u001b[0m \u001b[0;34m*\u001b[0m\u001b[0margs\u001b[0m\u001b[0;34m,\u001b[0m \u001b[0;34m**\u001b[0m\u001b[0mkwargs\u001b[0m\u001b[0;34m)\u001b[0m\u001b[0;34m\u001b[0m\u001b[0m\n\u001b[0m\u001b[1;32m   1899\u001b[0m         \u001b[0mpre_doc\u001b[0m \u001b[0;34m=\u001b[0m \u001b[0minner\u001b[0m\u001b[0;34m.\u001b[0m\u001b[0m__doc__\u001b[0m\u001b[0;34m\u001b[0m\u001b[0m\n\u001b[1;32m   1900\u001b[0m         \u001b[0;32mif\u001b[0m \u001b[0mpre_doc\u001b[0m \u001b[0;32mis\u001b[0m \u001b[0mNone\u001b[0m\u001b[0;34m:\u001b[0m\u001b[0;34m\u001b[0m\u001b[0m\n",
      "\u001b[0;32m/usr/local/lib/python2.7/dist-packages/matplotlib/axes/_axes.pyc\u001b[0m in \u001b[0;36mimshow\u001b[0;34m(self, X, cmap, norm, aspect, interpolation, alpha, vmin, vmax, origin, extent, shape, filternorm, filterrad, imlim, resample, url, **kwargs)\u001b[0m\n\u001b[1;32m   5122\u001b[0m                               resample=resample, **kwargs)\n\u001b[1;32m   5123\u001b[0m \u001b[0;34m\u001b[0m\u001b[0m\n\u001b[0;32m-> 5124\u001b[0;31m         \u001b[0mim\u001b[0m\u001b[0;34m.\u001b[0m\u001b[0mset_data\u001b[0m\u001b[0;34m(\u001b[0m\u001b[0mX\u001b[0m\u001b[0;34m)\u001b[0m\u001b[0;34m\u001b[0m\u001b[0m\n\u001b[0m\u001b[1;32m   5125\u001b[0m         \u001b[0mim\u001b[0m\u001b[0;34m.\u001b[0m\u001b[0mset_alpha\u001b[0m\u001b[0;34m(\u001b[0m\u001b[0malpha\u001b[0m\u001b[0;34m)\u001b[0m\u001b[0;34m\u001b[0m\u001b[0m\n\u001b[1;32m   5126\u001b[0m         \u001b[0;32mif\u001b[0m \u001b[0mim\u001b[0m\u001b[0;34m.\u001b[0m\u001b[0mget_clip_path\u001b[0m\u001b[0;34m(\u001b[0m\u001b[0;34m)\u001b[0m \u001b[0;32mis\u001b[0m \u001b[0mNone\u001b[0m\u001b[0;34m:\u001b[0m\u001b[0;34m\u001b[0m\u001b[0m\n",
      "\u001b[0;32m/usr/local/lib/python2.7/dist-packages/matplotlib/image.pyc\u001b[0m in \u001b[0;36mset_data\u001b[0;34m(self, A)\u001b[0m\n\u001b[1;32m    598\u001b[0m         if (self._A.ndim not in (2, 3) or\n\u001b[1;32m    599\u001b[0m                 (self._A.ndim == 3 and self._A.shape[-1] not in (3, 4))):\n\u001b[0;32m--> 600\u001b[0;31m             \u001b[0;32mraise\u001b[0m \u001b[0mTypeError\u001b[0m\u001b[0;34m(\u001b[0m\u001b[0;34m\"Invalid dimensions for image data\"\u001b[0m\u001b[0;34m)\u001b[0m\u001b[0;34m\u001b[0m\u001b[0m\n\u001b[0m\u001b[1;32m    601\u001b[0m \u001b[0;34m\u001b[0m\u001b[0m\n\u001b[1;32m    602\u001b[0m         \u001b[0mself\u001b[0m\u001b[0;34m.\u001b[0m\u001b[0m_imcache\u001b[0m \u001b[0;34m=\u001b[0m \u001b[0mNone\u001b[0m\u001b[0;34m\u001b[0m\u001b[0m\n",
      "\u001b[0;31mTypeError\u001b[0m: Invalid dimensions for image data"
     ]
    },
    {
     "data": {
      "image/png": "[encoded data removed]",
      "text/plain": [
       "<matplotlib.figure.Figure at 0x7fd1d4cb9950>"
      ]
     },
     "metadata": {},
     "output_type": "display_data"
    }
   ],
   "source": [
    "from matplotlib.pyplot import imshow\n",
    "imshow(np.asarray(img))"
   ]
  },
  {
   "cell_type": "code",
   "execution_count": 6,
   "metadata": {},
   "outputs": [
    {
     "name": "stdout",
     "output_type": "stream",
     "text": [
      "(3L, 30L, 120L)\n"
     ]
    }
   ],
   "source": [
    "array = mx.nd.array(img)\n",
    "print array.shape"
   ]
  },
  {
   "cell_type": "code",
   "execution_count": 7,
   "metadata": {
    "collapsed": true
   },
   "outputs": [],
   "source": [
    "class OCRBatch(object):\n",
    "    def __init__(self, data_names, data, label_names, label):\n",
    "        self.data = data\n",
    "        self.label = label\n",
    "        self.data_names = data_names\n",
    "        self.label_names = label_names\n",
    "\n",
    "    @property\n",
    "    def provide_data(self):\n",
    "        return [(n, x.shape) for n, x in zip(self.data_names, self.data)]\n",
    "\n",
    "    @property\n",
    "    def provide_label(self):\n",
    "        return [(n, x.shape) for n, x in zip(self.label_names, self.label)]\n",
    "    \n",
    "class OCRIter(mx.io.DataIter):\n",
    "    def __init__(self, count, batch_size, num_label, height, width):\n",
    "        super(OCRIter, self).__init__()\n",
    "        #self.genplate = GenPlate(\"./font/platech.ttf\",'./font/platechar.ttf','./NoPlates')\n",
    "        self.batch_size = batch_size\n",
    "        self.count = count\n",
    "        self.height = height\n",
    "        self.width = width\n",
    "        self.provide_data = [('data', (batch_size, 3, height, width))]\n",
    "        self.provide_label = [('softmax_label', (self.batch_size, num_label))]\n",
    "        print \"start\"\n",
    "    def __iter__(self):\n",
    "\n",
    "        for k in range(self.count / self.batch_size):\n",
    "            data = []\n",
    "            label = []\n",
    "            for i in range(self.batch_size):\n",
    "                name,lbl,img=gen_rand_getImg(self.count)\n",
    "                #print lbl\n",
    "                data.append(img)\n",
    "                label.append(lbl)\n",
    "\n",
    "            data_all = [mx.nd.array(data)]\n",
    "            label_all = [mx.nd.array(label)]\n",
    "            data_names = ['data']\n",
    "            label_names = ['softmax_label']\n",
    "            data_batch = OCRBatch(data_names, data_all, label_names, label_all)\n",
    "            yield data_batch\n",
    "\n",
    "    def reset(self):\n",
    "        pass"
   ]
  },
  {
   "cell_type": "code",
   "execution_count": 8,
   "metadata": {
    "collapsed": true
   },
   "outputs": [],
   "source": [
    "def get_ocrnet():\n",
    "    data = mx.symbol.Variable('data')\n",
    "    label = mx.symbol.Variable('softmax_label')\n",
    "    conv1 = mx.symbol.Convolution(data=data, kernel=(5,5), num_filter=32)\n",
    "    pool1 = mx.symbol.Pooling(data=conv1, pool_type=\"max\", kernel=(2,2), stride=(1, 1))\n",
    "    relu1 = mx.symbol.Activation(data=pool1, act_type=\"relu\")\n",
    "\n",
    "    conv2 = mx.symbol.Convolution(data=relu1, kernel=(5,5), num_filter=32)\n",
    "    pool2 = mx.symbol.Pooling(data=conv2, pool_type=\"avg\", kernel=(2,2), stride=(1, 1))\n",
    "    relu2 = mx.symbol.Activation(data=pool2, act_type=\"relu\")\n",
    "\n",
    "    # conv3 = mx.symbol.Convolution(data=relu2, kernel=(3,3), num_filter=32)\n",
    "    # pool3 = mx.symbol.Pooling(data=conv3, pool_type=\"avg\", kernel=(2,2), stride=(1, 1))\n",
    "    # relu3 = mx.symbol.Activation(data=pool3, act_type=\"relu\")\n",
    "    #\n",
    "    # conv4 = mx.symbol.Convolution(data=relu3, kernel=(3,3), num_filter=32)\n",
    "    # pool4 = mx.symbol.Pooling(data=conv4, pool_type=\"avg\", kernel=(2,2), stride=(1, 1))\n",
    "    # relu4 = mx.symbol.Activation(data=pool4, act_type=\"relu\")\n",
    "\n",
    "    flatten = mx.symbol.Flatten(data = relu2)\n",
    "    fc1 = mx.symbol.FullyConnected(data = flatten, num_hidden = 120)\n",
    "    fc21 = mx.symbol.FullyConnected(data = fc1, num_hidden = 65)\n",
    "    fc22 = mx.symbol.FullyConnected(data = fc1, num_hidden = 65)\n",
    "    fc23 = mx.symbol.FullyConnected(data = fc1, num_hidden = 65)\n",
    "    fc24 = mx.symbol.FullyConnected(data = fc1, num_hidden = 65)\n",
    "    fc25 = mx.symbol.FullyConnected(data = fc1, num_hidden = 65)\n",
    "    fc26 = mx.symbol.FullyConnected(data = fc1, num_hidden = 65)\n",
    "    fc27 = mx.symbol.FullyConnected(data = fc1, num_hidden = 65)\n",
    "    fc2 = mx.symbol.Concat(*[fc21, fc22, fc23, fc24,fc25,fc26,fc27], dim = 0)\n",
    "    label = mx.symbol.transpose(data = label)\n",
    "    label = mx.symbol.Reshape(data = label, target_shape = (0, ))\n",
    "    return mx.symbol.SoftmaxOutput(data = fc2, label = label, name = \"softmax\")\n",
    "\n",
    "\n",
    "def Accuracy(label, pred):\n",
    "    label = label.T.reshape((-1, ))\n",
    "    hit = 0\n",
    "    total = 0\n",
    "    for i in range(pred.shape[0] / 7):\n",
    "        ok = True\n",
    "        for j in range(7):\n",
    "            k = i * 7 + j\n",
    "            if np.argmax(pred[k]) != int(label[k]):\n",
    "                ok = False\n",
    "                break\n",
    "        if ok:\n",
    "            hit += 1\n",
    "        total += 1\n",
    "    return 1.0 * hit / total"
   ]
  },
  {
   "cell_type": "code",
   "execution_count": 9,
   "metadata": {},
   "outputs": [
    {
     "name": "stderr",
     "output_type": "stream",
     "text": [
      "/usr/local/lib/python2.7/dist-packages/ipykernel_launcher.py:8: DeprecationWarning: \u001b[91mmxnet.model.FeedForward has been deprecated. Please use mxnet.mod.Module instead.\u001b[0m\n",
      "  \n",
      "/home/liuhaian/src/incubator-mxnet/python/mxnet/model.py:547: DeprecationWarning: \u001b[91mCalling initializer with init(str, NDArray) has been deprecated.please use init(mx.init.InitDesc(...), NDArray) instead.\u001b[0m\n",
      "  self.initializer(k, v)\n",
      "2017-09-14 14:28:25,663 Start training with [cpu(0)]\n"
     ]
    },
    {
     "name": "stdout",
     "output_type": "stream",
     "text": [
      "start\n",
      "start\n",
      "start logging\n"
     ]
    },
    {
     "name": "stderr",
     "output_type": "stream",
     "text": [
      "2017-09-14 14:29:56,108 Epoch[0] Batch [50]\tSpeed: 28.08 samples/sec\tAccuracy=0.000000\n",
      "2017-09-14 14:31:25,726 Epoch[0] Batch [100]\tSpeed: 27.90 samples/sec\tAccuracy=0.000000\n",
      "2017-09-14 14:32:01,662 Epoch[0] Resetting Data Iterator\n",
      "2017-09-14 14:32:01,663 Epoch[0] Time cost=215.981\n",
      "2017-09-14 14:32:05,949 Epoch[0] Validation-Accuracy=0.000000\n",
      "2017-09-14 14:33:35,397 Epoch[1] Batch [50]\tSpeed: 28.27 samples/sec\tAccuracy=0.000000\n",
      "2017-09-14 14:35:05,502 Epoch[1] Batch [100]\tSpeed: 27.75 samples/sec\tAccuracy=0.000000\n",
      "2017-09-14 14:35:42,167 Epoch[1] Resetting Data Iterator\n",
      "2017-09-14 14:35:42,169 Epoch[1] Time cost=216.219\n",
      "2017-09-14 14:35:46,550 Epoch[1] Validation-Accuracy=0.000000\n",
      "2017-09-14 14:37:15,499 Epoch[2] Batch [50]\tSpeed: 28.39 samples/sec\tAccuracy=0.000000\n",
      "2017-09-14 14:38:45,298 Epoch[2] Batch [100]\tSpeed: 27.84 samples/sec\tAccuracy=0.000000\n",
      "2017-09-14 14:39:21,553 Epoch[2] Resetting Data Iterator\n",
      "2017-09-14 14:39:21,556 Epoch[2] Time cost=215.005\n",
      "2017-09-14 14:39:25,904 Epoch[2] Validation-Accuracy=0.000000\n",
      "2017-09-14 14:40:55,627 Epoch[3] Batch [50]\tSpeed: 28.14 samples/sec\tAccuracy=0.000000\n",
      "2017-09-14 14:42:26,211 Epoch[3] Batch [100]\tSpeed: 27.60 samples/sec\tAccuracy=0.000000\n",
      "2017-09-14 14:43:02,276 Epoch[3] Resetting Data Iterator\n",
      "2017-09-14 14:43:02,277 Epoch[3] Time cost=216.372\n",
      "2017-09-14 14:43:06,742 Epoch[3] Validation-Accuracy=0.000000\n",
      "2017-09-14 14:44:35,475 Epoch[4] Batch [50]\tSpeed: 28.45 samples/sec\tAccuracy=0.000000\n",
      "2017-09-14 14:46:05,418 Epoch[4] Batch [100]\tSpeed: 27.80 samples/sec\tAccuracy=0.000000\n",
      "2017-09-14 14:46:41,467 Epoch[4] Resetting Data Iterator\n",
      "2017-09-14 14:46:41,468 Epoch[4] Time cost=214.726\n",
      "2017-09-14 14:46:45,760 Epoch[4] Validation-Accuracy=0.000000\n",
      "2017-09-14 14:48:14,678 Epoch[5] Batch [50]\tSpeed: 28.39 samples/sec\tAccuracy=0.000000\n",
      "2017-09-14 14:49:44,505 Epoch[5] Batch [100]\tSpeed: 27.83 samples/sec\tAccuracy=0.000000\n",
      "2017-09-14 14:50:20,353 Epoch[5] Resetting Data Iterator\n",
      "2017-09-14 14:50:20,354 Epoch[5] Time cost=214.593\n",
      "2017-09-14 14:50:24,743 Epoch[5] Validation-Accuracy=0.000000\n",
      "2017-09-14 14:51:54,127 Epoch[6] Batch [50]\tSpeed: 28.30 samples/sec\tAccuracy=0.000000\n",
      "2017-09-14 14:53:24,192 Epoch[6] Batch [100]\tSpeed: 27.76 samples/sec\tAccuracy=0.000000\n",
      "2017-09-14 14:54:00,636 Epoch[6] Resetting Data Iterator\n",
      "2017-09-14 14:54:00,637 Epoch[6] Time cost=215.893\n",
      "2017-09-14 14:54:04,979 Epoch[6] Validation-Accuracy=0.000000\n",
      "2017-09-14 14:55:33,644 Epoch[7] Batch [50]\tSpeed: 28.48 samples/sec\tAccuracy=0.000000\n",
      "2017-09-14 14:57:03,814 Epoch[7] Batch [100]\tSpeed: 27.73 samples/sec\tAccuracy=0.000000\n",
      "2017-09-14 14:57:39,952 Epoch[7] Resetting Data Iterator\n",
      "2017-09-14 14:57:39,953 Epoch[7] Time cost=214.973\n",
      "2017-09-14 14:57:44,270 Epoch[7] Validation-Accuracy=0.000000\n",
      "2017-09-14 14:59:13,423 Epoch[8] Batch [50]\tSpeed: 28.32 samples/sec\tAccuracy=0.000000\n",
      "2017-09-14 15:00:42,919 Epoch[8] Batch [100]\tSpeed: 27.94 samples/sec\tAccuracy=0.000000\n",
      "2017-09-14 15:01:19,040 Epoch[8] Resetting Data Iterator\n",
      "2017-09-14 15:01:19,041 Epoch[8] Time cost=214.769\n",
      "2017-09-14 15:01:23,582 Epoch[8] Validation-Accuracy=0.000000\n",
      "2017-09-14 15:02:52,927 Epoch[9] Batch [50]\tSpeed: 28.26 samples/sec\tAccuracy=0.000000\n",
      "2017-09-14 15:04:23,002 Epoch[9] Batch [100]\tSpeed: 27.76 samples/sec\tAccuracy=0.000000\n",
      "2017-09-14 15:04:58,698 Epoch[9] Resetting Data Iterator\n",
      "2017-09-14 15:04:58,702 Epoch[9] Time cost=215.116\n",
      "2017-09-14 15:05:02,942 Epoch[9] Validation-Accuracy=0.000000\n",
      "2017-09-14 15:06:32,044 Epoch[10] Batch [50]\tSpeed: 28.34 samples/sec\tAccuracy=0.000000\n",
      "2017-09-14 15:08:00,839 Epoch[10] Batch [100]\tSpeed: 28.15 samples/sec\tAccuracy=0.000000\n",
      "2017-09-14 15:08:36,868 Epoch[10] Resetting Data Iterator\n",
      "2017-09-14 15:08:36,870 Epoch[10] Time cost=213.927\n",
      "2017-09-14 15:08:41,159 Epoch[10] Validation-Accuracy=0.000000\n",
      "2017-09-14 15:10:10,712 Epoch[11] Batch [50]\tSpeed: 28.23 samples/sec\tAccuracy=0.000000\n",
      "2017-09-14 15:11:40,340 Epoch[11] Batch [100]\tSpeed: 27.89 samples/sec\tAccuracy=0.000000\n",
      "2017-09-14 15:12:16,475 Epoch[11] Resetting Data Iterator\n",
      "2017-09-14 15:12:16,479 Epoch[11] Time cost=215.318\n",
      "2017-09-14 15:12:20,837 Epoch[11] Validation-Accuracy=0.000000\n",
      "2017-09-14 15:13:49,959 Epoch[12] Batch [50]\tSpeed: 28.40 samples/sec\tAccuracy=0.000000\n",
      "2017-09-14 15:15:19,465 Epoch[12] Batch [100]\tSpeed: 27.93 samples/sec\tAccuracy=0.000000\n",
      "2017-09-14 15:15:55,691 Epoch[12] Resetting Data Iterator\n",
      "2017-09-14 15:15:55,693 Epoch[12] Time cost=214.854\n",
      "2017-09-14 15:15:59,995 Epoch[12] Validation-Accuracy=0.000000\n",
      "2017-09-14 15:17:28,766 Epoch[13] Batch [50]\tSpeed: 28.42 samples/sec\tAccuracy=0.000000\n",
      "2017-09-14 15:18:57,505 Epoch[13] Batch [100]\tSpeed: 28.17 samples/sec\tAccuracy=0.000000\n",
      "2017-09-14 15:19:33,237 Epoch[13] Resetting Data Iterator\n",
      "2017-09-14 15:19:33,240 Epoch[13] Time cost=213.244\n",
      "2017-09-14 15:19:37,673 Epoch[13] Validation-Accuracy=0.000000\n",
      "2017-09-14 15:21:06,147 Epoch[14] Batch [50]\tSpeed: 28.55 samples/sec\tAccuracy=0.000000\n",
      "2017-09-14 15:22:35,490 Epoch[14] Batch [100]\tSpeed: 27.98 samples/sec\tAccuracy=0.000000\n",
      "2017-09-14 15:23:11,535 Epoch[14] Resetting Data Iterator\n",
      "2017-09-14 15:23:11,538 Epoch[14] Time cost=213.864\n",
      "2017-09-14 15:23:15,859 Epoch[14] Validation-Accuracy=0.000000\n",
      "2017-09-14 15:24:44,975 Epoch[15] Batch [50]\tSpeed: 28.33 samples/sec\tAccuracy=0.000000\n",
      "2017-09-14 15:26:14,825 Epoch[15] Batch [100]\tSpeed: 27.83 samples/sec\tAccuracy=0.000000\n",
      "2017-09-14 15:26:50,490 Epoch[15] Resetting Data Iterator\n",
      "2017-09-14 15:26:50,493 Epoch[15] Time cost=214.633\n",
      "2017-09-14 15:26:54,821 Epoch[15] Validation-Accuracy=0.000000\n",
      "2017-09-14 15:28:23,714 Epoch[16] Batch [50]\tSpeed: 28.47 samples/sec\tAccuracy=0.000000\n",
      "2017-09-14 15:29:54,261 Epoch[16] Batch [100]\tSpeed: 27.61 samples/sec\tAccuracy=0.000000\n",
      "2017-09-14 15:30:29,722 Epoch[16] Resetting Data Iterator\n",
      "2017-09-14 15:30:29,725 Epoch[16] Time cost=214.903\n",
      "2017-09-14 15:30:34,040 Epoch[16] Validation-Accuracy=0.000000\n",
      "2017-09-14 15:32:03,364 Epoch[17] Batch [50]\tSpeed: 28.27 samples/sec\tAccuracy=0.000000\n",
      "2017-09-14 15:33:32,393 Epoch[17] Batch [100]\tSpeed: 28.08 samples/sec\tAccuracy=0.000000\n",
      "2017-09-14 15:34:08,170 Epoch[17] Resetting Data Iterator\n",
      "2017-09-14 15:34:08,172 Epoch[17] Time cost=214.130\n",
      "2017-09-14 15:34:12,363 Epoch[17] Validation-Accuracy=0.000000\n",
      "2017-09-14 15:35:41,257 Epoch[18] Batch [50]\tSpeed: 28.42 samples/sec\tAccuracy=0.000000\n",
      "2017-09-14 15:37:11,303 Epoch[18] Batch [100]\tSpeed: 27.76 samples/sec\tAccuracy=0.000000\n",
      "2017-09-14 15:37:47,283 Epoch[18] Resetting Data Iterator\n",
      "2017-09-14 15:37:47,284 Epoch[18] Time cost=214.921\n",
      "2017-09-14 15:37:51,792 Epoch[18] Validation-Accuracy=0.000000\n",
      "2017-09-14 15:39:20,957 Epoch[19] Batch [50]\tSpeed: 28.38 samples/sec\tAccuracy=0.000000\n",
      "2017-09-14 15:40:49,976 Epoch[19] Batch [100]\tSpeed: 28.08 samples/sec\tAccuracy=0.000000\n",
      "2017-09-14 15:41:26,099 Epoch[19] Resetting Data Iterator\n",
      "2017-09-14 15:41:26,102 Epoch[19] Time cost=214.309\n",
      "2017-09-14 15:41:30,573 Epoch[19] Validation-Accuracy=0.000000\n"
     ]
    }
   ],
   "source": [
    "network = get_ocrnet()\n",
    "model = mx.model.FeedForward(\n",
    "                             symbol = network,\n",
    "                             num_epoch = 20,\n",
    "                             learning_rate = 0.01,\n",
    "                             wd = 0.001,\n",
    "                             initializer = mx.init.Xavier(factor_type=\"in\", magnitude=2.34),\n",
    "                             momentum = 0.9)\n",
    "batch_size = 50\n",
    "data_train = OCRIter(6000, batch_size, 7, 30, 120)\n",
    "data_test = OCRIter(200, batch_size,7, 30, 120)\n",
    "print(\"start logging\")\n",
    "import logging\n",
    "head = '%(asctime)-15s %(message)s'\n",
    "logging.basicConfig(level=logging.DEBUG, format=head)\n",
    "model.fit(X = data_train, eval_data = data_test, eval_metric = Accuracy, batch_end_callback=mx.callback.Speedometer(batch_size, 50))"
   ]
  },
  {
   "cell_type": "code",
   "execution_count": null,
   "metadata": {
    "collapsed": true
   },
   "outputs": [],
   "source": []
  }
 ],
 "metadata": {
  "kernelspec": {
   "display_name": "Python 2",
   "language": "python",
   "name": "python2"
  },
  "language_info": {
   "codemirror_mode": {
    "name": "ipython",
    "version": 2
   },
   "file_extension": ".py",
   "mimetype": "text/x-python",
   "name": "python",
   "nbconvert_exporter": "python",
   "pygments_lexer": "ipython2",
   "version": "2.7.12+"
  }
 },
 "nbformat": 4,
 "nbformat_minor": 2
}
